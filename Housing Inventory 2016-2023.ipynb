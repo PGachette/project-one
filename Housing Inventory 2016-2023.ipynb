{
 "cells": [
  {
   "cell_type": "code",
   "execution_count": 1,
   "id": "dd4fc3a2",
   "metadata": {
    "scrolled": false
   },
   "outputs": [
    {
     "data": {
      "text/html": [
       "<div>\n",
       "<style scoped>\n",
       "    .dataframe tbody tr th:only-of-type {\n",
       "        vertical-align: middle;\n",
       "    }\n",
       "\n",
       "    .dataframe tbody tr th {\n",
       "        vertical-align: top;\n",
       "    }\n",
       "\n",
       "    .dataframe thead th {\n",
       "        text-align: right;\n",
       "    }\n",
       "</style>\n",
       "<table border=\"1\" class=\"dataframe\">\n",
       "  <thead>\n",
       "    <tr style=\"text-align: right;\">\n",
       "      <th></th>\n",
       "      <th>DATE</th>\n",
       "      <th>ACTLISCOU12086</th>\n",
       "    </tr>\n",
       "  </thead>\n",
       "  <tbody>\n",
       "    <tr>\n",
       "      <th>82</th>\n",
       "      <td>2023-05-01</td>\n",
       "      <td>9240.0</td>\n",
       "    </tr>\n",
       "    <tr>\n",
       "      <th>83</th>\n",
       "      <td>2023-06-01</td>\n",
       "      <td>9065.0</td>\n",
       "    </tr>\n",
       "    <tr>\n",
       "      <th>84</th>\n",
       "      <td>2023-07-01</td>\n",
       "      <td>8915.0</td>\n",
       "    </tr>\n",
       "    <tr>\n",
       "      <th>85</th>\n",
       "      <td>2023-08-01</td>\n",
       "      <td>9059.0</td>\n",
       "    </tr>\n",
       "    <tr>\n",
       "      <th>86</th>\n",
       "      <td>2023-09-01</td>\n",
       "      <td>9735.0</td>\n",
       "    </tr>\n",
       "  </tbody>\n",
       "</table>\n",
       "</div>"
      ],
      "text/plain": [
       "          DATE  ACTLISCOU12086\n",
       "82  2023-05-01          9240.0\n",
       "83  2023-06-01          9065.0\n",
       "84  2023-07-01          8915.0\n",
       "85  2023-08-01          9059.0\n",
       "86  2023-09-01          9735.0"
      ]
     },
     "execution_count": 1,
     "metadata": {},
     "output_type": "execute_result"
    }
   ],
   "source": [
    "# Dependences\n",
    "import pandas as pd\n",
    "from pathlib import Path\n",
    "import matplotlib.pyplot as plt\n",
    "\n",
    "housing_path = Path(\"ACTLISCOU12086.csv\")\n",
    "Housing_df = pd.read_csv(housing_path)\n",
    "Housing_df.tail()"
   ]
  },
  {
   "cell_type": "code",
   "execution_count": 3,
   "id": "fd923055",
   "metadata": {},
   "outputs": [
    {
     "data": {
      "text/plain": [
       "Index(['DATE', 'ACTLISCOU12086'], dtype='object')"
      ]
     },
     "execution_count": 3,
     "metadata": {},
     "output_type": "execute_result"
    }
   ],
   "source": [
    "Housing_df.columns"
   ]
  },
  {
   "cell_type": "code",
   "execution_count": 4,
   "id": "6bfe4052",
   "metadata": {},
   "outputs": [
    {
     "data": {
      "text/html": [
       "<div>\n",
       "<style scoped>\n",
       "    .dataframe tbody tr th:only-of-type {\n",
       "        vertical-align: middle;\n",
       "    }\n",
       "\n",
       "    .dataframe tbody tr th {\n",
       "        vertical-align: top;\n",
       "    }\n",
       "\n",
       "    .dataframe thead th {\n",
       "        text-align: right;\n",
       "    }\n",
       "</style>\n",
       "<table border=\"1\" class=\"dataframe\">\n",
       "  <thead>\n",
       "    <tr style=\"text-align: right;\">\n",
       "      <th></th>\n",
       "      <th>Listings Count</th>\n",
       "      <th>Year</th>\n",
       "    </tr>\n",
       "  </thead>\n",
       "  <tbody>\n",
       "    <tr>\n",
       "      <th>0</th>\n",
       "      <td>19334.0</td>\n",
       "      <td>2016</td>\n",
       "    </tr>\n",
       "    <tr>\n",
       "      <th>1</th>\n",
       "      <td>19301.0</td>\n",
       "      <td>2016</td>\n",
       "    </tr>\n",
       "    <tr>\n",
       "      <th>2</th>\n",
       "      <td>19313.0</td>\n",
       "      <td>2016</td>\n",
       "    </tr>\n",
       "    <tr>\n",
       "      <th>3</th>\n",
       "      <td>19631.0</td>\n",
       "      <td>2016</td>\n",
       "    </tr>\n",
       "    <tr>\n",
       "      <th>4</th>\n",
       "      <td>20062.0</td>\n",
       "      <td>2016</td>\n",
       "    </tr>\n",
       "    <tr>\n",
       "      <th>...</th>\n",
       "      <td>...</td>\n",
       "      <td>...</td>\n",
       "    </tr>\n",
       "    <tr>\n",
       "      <th>82</th>\n",
       "      <td>9240.0</td>\n",
       "      <td>2023</td>\n",
       "    </tr>\n",
       "    <tr>\n",
       "      <th>83</th>\n",
       "      <td>9065.0</td>\n",
       "      <td>2023</td>\n",
       "    </tr>\n",
       "    <tr>\n",
       "      <th>84</th>\n",
       "      <td>8915.0</td>\n",
       "      <td>2023</td>\n",
       "    </tr>\n",
       "    <tr>\n",
       "      <th>85</th>\n",
       "      <td>9059.0</td>\n",
       "      <td>2023</td>\n",
       "    </tr>\n",
       "    <tr>\n",
       "      <th>86</th>\n",
       "      <td>9735.0</td>\n",
       "      <td>2023</td>\n",
       "    </tr>\n",
       "  </tbody>\n",
       "</table>\n",
       "<p>87 rows × 2 columns</p>\n",
       "</div>"
      ],
      "text/plain": [
       "    Listings Count  Year\n",
       "0          19334.0  2016\n",
       "1          19301.0  2016\n",
       "2          19313.0  2016\n",
       "3          19631.0  2016\n",
       "4          20062.0  2016\n",
       "..             ...   ...\n",
       "82          9240.0  2023\n",
       "83          9065.0  2023\n",
       "84          8915.0  2023\n",
       "85          9059.0  2023\n",
       "86          9735.0  2023\n",
       "\n",
       "[87 rows x 2 columns]"
      ]
     },
     "execution_count": 4,
     "metadata": {},
     "output_type": "execute_result"
    }
   ],
   "source": [
    "# Convert the 'DATE' column to datetime\n",
    "Housing_df['DATE'] = pd.to_datetime(Housing_df['DATE'])\n",
    "# Extract the year component and create a new 'Year' column\n",
    "Housing_df['Year'] = Housing_df['DATE'].dt.year\n",
    "# Drop the original 'DATE' column if it's no longer needed\n",
    "Housing_DF = Housing_df.drop(columns=['DATE'])\n",
    "Housing_DF = Housing_DF.rename(columns={'ACTLISCOU12086': 'Listings Count'})\n",
    "# Print the updated DataFrame\n",
    "Housing_DF"
   ]
  },
  {
   "cell_type": "code",
   "execution_count": 5,
   "id": "f28644a2",
   "metadata": {},
   "outputs": [],
   "source": [
    "Y2017 = Housing_DF[Housing_df['Year'] == 2017]\n",
    "Y2018 = Housing_DF[Housing_df['Year'] == 2018]\n",
    "Y2019 = Housing_DF[Housing_df['Year'] == 2019]\n",
    "Y2020 = Housing_DF[Housing_df['Year'] == 2020]\n",
    "Y2021 = Housing_DF[Housing_df['Year'] == 2021]\n",
    "Y2022 = Housing_DF[Housing_df['Year'] == 2022]\n",
    "Y2023 = Housing_DF[Housing_df['Year'] == 2023]"
   ]
  },
  {
   "cell_type": "code",
   "execution_count": 6,
   "id": "66bcd65c",
   "metadata": {
    "scrolled": false
   },
   "outputs": [
    {
     "data": {
      "text/plain": [
       "count       87.000000\n",
       "mean     16607.551724\n",
       "std       5415.895689\n",
       "min       6376.000000\n",
       "25%      10711.500000\n",
       "50%      19631.000000\n",
       "75%      20886.000000\n",
       "max      23258.000000\n",
       "Name: Listings Count, dtype: float64"
      ]
     },
     "execution_count": 6,
     "metadata": {},
     "output_type": "execute_result"
    }
   ],
   "source": [
    "Housing_DF['Listings Count'].describe()"
   ]
  },
  {
   "cell_type": "code",
   "execution_count": 13,
   "id": "ddcd8ffb",
   "metadata": {
    "scrolled": false
   },
   "outputs": [
    {
     "data": {
      "image/png": "[encoded data removed]",
      "text/plain": [
       "<Figure size 640x480 with 1 Axes>"
      ]
     },
     "metadata": {},
     "output_type": "display_data"
    }
   ],
   "source": [
    "labels = Housing_DF['Year'].tolist()\n",
    "y_axis = Housing_DF[\"Listings Count\"]\n",
    "x_axis = Housing_DF[\"Year\"]\n",
    "plt.scatter(x_axis, y_axis)\n",
    "plt.xticks(rotation=90)\n",
    "plt.title('Number of Houses Listed in Miami, FL by Date')\n",
    "plt.xlabel('Date in Month/Year')\n",
    "plt.ylabel('Number of Houses Listed')\n",
    "plt.show()"
   ]
  },
  {
   "cell_type": "code",
   "execution_count": null,
   "id": "de86a1dc",
   "metadata": {},
   "outputs": [],
   "source": [
    "summary_data = "
   ]
  }
 ],
 "metadata": {
  "kernelspec": {
   "display_name": "Python 3 (ipykernel)",
   "language": "python",
   "name": "python3"
  },
  "language_info": {
   "codemirror_mode": {
    "name": "ipython",
    "version": 3
   },
   "file_extension": ".py",
   "mimetype": "text/x-python",
   "name": "python",
   "nbconvert_exporter": "python",
   "pygments_lexer": "ipython3",
   "version": "3.11.5"
  }
 },
 "nbformat": 4,
 "nbformat_minor": 5
}
